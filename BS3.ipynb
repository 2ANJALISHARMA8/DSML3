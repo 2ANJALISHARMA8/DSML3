{
 "cells": [
  {
   "cell_type": "code",
   "execution_count": 1,
   "id": "239f354f-e8e1-4ec1-a0eb-5f95a12782d6",
   "metadata": {},
   "outputs": [],
   "source": [
    "#Find the Perfect sqaure of given number using binary search and optimize the code"
   ]
  },
  {
   "cell_type": "code",
   "execution_count": 17,
   "id": "d37eefd9-1ee0-49e4-96be-1d2dd7dd218e",
   "metadata": {},
   "outputs": [
    {
     "name": "stdin",
     "output_type": "stream",
     "text": [
      "Enter the target: 9\n"
     ]
    },
    {
     "name": "stdout",
     "output_type": "stream",
     "text": [
      "3\n"
     ]
    }
   ],
   "source": [
    "li_sq = [4,9,16,25,36,49,64]\n",
    "target = int(input(\"Enter the target:\"))\n",
    "\n",
    "#target = 25 \n",
    "\n",
    "\n",
    "left = 0\n",
    "right = target\n",
    "\n",
    "while left <= right:\n",
    "    mid = (left + right) // 2\n",
    "    value = mid * mid\n",
    "    \n",
    "    if value == target:\n",
    "        print(mid)  \n",
    "        break\n",
    "    elif value > target:\n",
    "        right = mid - 1  \n",
    "    else:\n",
    "        left = mid + 1  \n",
    "\n",
    "        \n",
    "    \n",
    "        \n",
    "        \n",
    "    "
   ]
  },
  {
   "cell_type": "code",
   "execution_count": null,
   "id": "9e3a10d2-1d3a-4d8d-aaaf-9792b963edd3",
   "metadata": {},
   "outputs": [],
   "source": []
  }
 ],
 "metadata": {
  "kernelspec": {
   "display_name": "Python 3 (ipykernel)",
   "language": "python",
   "name": "python3"
  },
  "language_info": {
   "codemirror_mode": {
    "name": "ipython",
    "version": 3
   },
   "file_extension": ".py",
   "mimetype": "text/x-python",
   "name": "python",
   "nbconvert_exporter": "python",
   "pygments_lexer": "ipython3",
   "version": "3.11.7"
  }
 },
 "nbformat": 4,
 "nbformat_minor": 5
}
