{
 "cells": [
  {
   "cell_type": "code",
   "execution_count": 1,
   "id": "593bbeef-4e22-4955-8d4e-ca8cc3ee5f72",
   "metadata": {},
   "outputs": [],
   "source": [
    "#1) Write a Python program that appends all even numbers from 1 to 20 to a list using a for loop and an if condition."
   ]
  },
  {
   "cell_type": "code",
   "execution_count": 4,
   "id": "16e49ee2-3ee0-4638-9b54-f27221206f85",
   "metadata": {},
   "outputs": [
    {
     "name": "stdout",
     "output_type": "stream",
     "text": [
      "[2, 4, 6, 8, 10, 12, 14, 16, 18]\n"
     ]
    }
   ],
   "source": [
    "list=[]\n",
    "for i in range  (1,20):\n",
    "    if i%2 == 0:\n",
    "        list.append(i)\n",
    "print(list)\n",
    "        \n",
    "        "
   ]
  },
  {
   "cell_type": "code",
   "execution_count": 5,
   "id": "6e65ffc7-0227-428c-9257-10bff50976cd",
   "metadata": {},
   "outputs": [],
   "source": [
    "#2) Given the list numbers = [5, 12, 7, 18, 3], write a program to create a new list containing only numbers greater than 10 using a for loop and if-else."
   ]
  },
  {
   "cell_type": "code",
   "execution_count": 9,
   "id": "c23b9a02-355d-4eb1-a03a-aefcd71efcc1",
   "metadata": {},
   "outputs": [
    {
     "name": "stdout",
     "output_type": "stream",
     "text": [
      "[12, 18]\n"
     ]
    }
   ],
   "source": [
    "list_number=[5,12,7,18,3]\n",
    "new_list=[]\n",
    "for num in list_number:\n",
    "    if num>10:\n",
    "        new_list.append(num)\n",
    "print(new_list)"
   ]
  },
  {
   "cell_type": "code",
   "execution_count": 11,
   "id": "d73f4da4-15d6-45a5-a71c-d91e85326311",
   "metadata": {},
   "outputs": [],
   "source": [
    "#3) Create a program that iterates through the list colors = ['red', 'blue', 'green', 'yellow']. Append all colors that have more than 3 characters to a new list using a for loop and an if condition"
   ]
  },
  {
   "cell_type": "code",
   "execution_count": 12,
   "id": "c577d848-08d0-4726-9cc1-45ca32dfe07c",
   "metadata": {},
   "outputs": [
    {
     "name": "stdout",
     "output_type": "stream",
     "text": [
      "['blue', 'green', 'yellow']\n"
     ]
    }
   ],
   "source": [
    "color_list=['red', 'blue', 'green', 'yellow']\n",
    "new_list=[]\n",
    "for color in color_list:\n",
    "    if len(color) > 3:\n",
    "        new_list.append(color)\n",
    "print(new_list)\n",
    "        "
   ]
  },
  {
   "cell_type": "code",
   "execution_count": 13,
   "id": "e418fd14-7d8d-41d7-8bba-4d64b0b2ee5f",
   "metadata": {},
   "outputs": [],
   "source": [
    "#4) Write a Python program to create a list of squares of numbers from 1 to 10 using a for loop. Use an if condition to append only the squares of even numbers."
   ]
  },
  {
   "cell_type": "code",
   "execution_count": 19,
   "id": "8a9433f0-f987-4f1c-88c8-2f1a62516510",
   "metadata": {},
   "outputs": [
    {
     "name": "stdout",
     "output_type": "stream",
     "text": [
      "[4, 16, 36, 64, 100]\n"
     ]
    }
   ],
   "source": [
    "list=[]\n",
    "for i in range(1,11):\n",
    "    if i%2 ==0:\n",
    "        list.append(i**2)\n",
    "print(list)\n",
    "\n",
    "        \n",
    "        \n",
    "        \n",
    "        \n",
    "        "
   ]
  },
  {
   "cell_type": "code",
   "execution_count": 20,
   "id": "40b17931-9918-4d15-a017-2a8ade65b28e",
   "metadata": {},
   "outputs": [],
   "source": [
    "#5)Given the list names = ['John', 'Anna', 'Mike', 'Chris'], write a program that appends names starting with the letter 'A' to a new list using a for loop and if condition."
   ]
  },
  {
   "cell_type": "code",
   "execution_count": 24,
   "id": "e6cf5147-285d-4fcf-b0e3-a2f47184ef87",
   "metadata": {},
   "outputs": [
    {
     "name": "stdout",
     "output_type": "stream",
     "text": [
      "['Anna']\n"
     ]
    }
   ],
   "source": [
    "names = ['John', 'Anna', 'Mike', 'Chris']\n",
    "new_list=[]\n",
    "for name in names:\n",
    "    if name[0]=='A':\n",
    "        new_list.append(name)\n",
    "print(new_list)"
   ]
  },
  {
   "cell_type": "code",
   "execution_count": 25,
   "id": "bfa517d4-7d5c-48ea-805a-25ee88de9c5b",
   "metadata": {},
   "outputs": [],
   "source": [
    "#6) Write a Python program that takes a list of numbers [3, 8, 15, 6, 12, 7] and appends numbers divisible by 3 to one list and all others to another list using a for loop and if-else"
   ]
  },
  {
   "cell_type": "code",
   "execution_count": 92,
   "id": "8648d10c-33bf-42bc-ab0d-b63409eb3644",
   "metadata": {},
   "outputs": [
    {
     "name": "stdout",
     "output_type": "stream",
     "text": [
      "new_list: [3, 15, 6, 12]\n",
      "other numbers: [8, 7]\n"
     ]
    }
   ],
   "source": [
    "numbers=[3, 8, 15, 6, 12, 7]\n",
    "new_list=[]\n",
    "others=[]\n",
    "for num in numbers:\n",
    "    if num%3==0:\n",
    "        new_list.append(num)\n",
    "        \n",
    "    else:\n",
    "        others.append(num)\n",
    "\n",
    "print(\"new_list:\", new_list)\n",
    "print(\"other numbers:\", others)\n",
    "        \n"
   ]
  },
  {
   "cell_type": "code",
   "execution_count": 48,
   "id": "55c4e811-ba42-427a-958f-c8e32fa96295",
   "metadata": {},
   "outputs": [],
   "source": [
    "#7) Create a program that iterates through the list of strings words = ['apple', 'banana', 'cat', 'dog']. Append words that start with a vowel to one list and others to a different list using a for loop and if-else."
   ]
  },
  {
   "cell_type": "code",
   "execution_count": 57,
   "id": "d0838fe2-629e-4390-99e7-e103d4d1bbfd",
   "metadata": {},
   "outputs": [
    {
     "name": "stdout",
     "output_type": "stream",
     "text": [
      "vowellist: ['apple']\n",
      "consonantlist: ['banana', 'cat', 'dog']\n"
     ]
    }
   ],
   "source": [
    "words = ['apple', 'banana', 'cat', 'dog']\n",
    "vowel=[]\n",
    "consonant=[]\n",
    "vowels='aeiou'\n",
    "for word in words:\n",
    "    if word[0].lower() in vowels:\n",
    "        vowel.append(word)\n",
    "        print(\"vowellist:\", vowel)\n",
    "    else:\n",
    "        consonant.append(word)\n",
    "print(\"consonantlist:\", consonant)"
   ]
  },
  {
   "cell_type": "code",
   "execution_count": 70,
   "id": "67f0a553-0713-4c71-8ad7-82cc9b0c7a43",
   "metadata": {},
   "outputs": [],
   "source": [
    "#8) Write a program to iterate over the list of integers nums = [2, -3, 7, -8, 0, 5]. Append positive numbers to one list, negative numbers to another, and zeros to a third list using a for loop and if-elif-else."
   ]
  },
  {
   "cell_type": "code",
   "execution_count": 91,
   "id": "aed72087-e042-4cd9-9f6c-ddfac7746719",
   "metadata": {},
   "outputs": [
    {
     "name": "stdout",
     "output_type": "stream",
     "text": [
      "PositiveNumber: [2, 7, 5]\n",
      "NegativeNumber: [-3, -8]\n",
      "zeros: [0]\n"
     ]
    }
   ],
   "source": [
    "nums = [2, -3, 7, -8, 0, 5]\n",
    "positive_number=[]\n",
    "negative_number=[]\n",
    "zero=[]\n",
    "for num in nums:\n",
    "    if num > 0:\n",
    "        positive_number.append(num)\n",
    "        \n",
    "    elif num < 0:\n",
    "        negative_number.append(num)\n",
    "        \n",
    "    else: \n",
    "        zero.append(num)\n",
    "       \n",
    "print(\"PositiveNumber:\", positive_number)\n",
    "print(\"NegativeNumber:\", negative_number)\n",
    "print(\"zeros:\", zero)\n",
    "        \n",
    "        "
   ]
  },
  {
   "cell_type": "code",
   "execution_count": null,
   "id": "21474c8e-208c-40c8-a7e7-6286074637c0",
   "metadata": {},
   "outputs": [],
   "source": []
  }
 ],
 "metadata": {
  "kernelspec": {
   "display_name": "Python 3 (ipykernel)",
   "language": "python",
   "name": "python3"
  },
  "language_info": {
   "codemirror_mode": {
    "name": "ipython",
    "version": 3
   },
   "file_extension": ".py",
   "mimetype": "text/x-python",
   "name": "python",
   "nbconvert_exporter": "python",
   "pygments_lexer": "ipython3",
   "version": "3.11.7"
  }
 },
 "nbformat": 4,
 "nbformat_minor": 5
}
