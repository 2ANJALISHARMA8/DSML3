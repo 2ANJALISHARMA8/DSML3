{
 "cells": [
  {
   "cell_type": "code",
   "execution_count": null,
   "id": "201102ea-3076-40fc-b196-44054c72a3a0",
   "metadata": {},
   "outputs": [],
   "source": [
    "#1) Write a program to find the sum of all prime numbers between 1 and 100 using a while loop.sum_of_primes = 0"
   ]
  },
  {
   "cell_type": "code",
   "execution_count": 5,
   "id": "5be8497b-9526-4070-bbdd-a83514373fd9",
   "metadata": {},
   "outputs": [
    {
     "name": "stdout",
     "output_type": "stream",
     "text": [
      "Sum of all prime numbers between 1 and 100: 1060\n"
     ]
    }
   ],
   "source": [
    "sum_of_primes = 0\n",
    "\n",
    "\n",
    "num = 2\n",
    "while num <= 100:\n",
    "    if num <= 1:\n",
    "        num += 1\n",
    "        \n",
    "\n",
    "    divisor = 2\n",
    "    count = 0\n",
    "    \n",
    "    \n",
    "    while divisor <= num // 2:\n",
    "        if num % divisor == 0:\n",
    "            count += 1\n",
    "            \n",
    "        divisor += 1\n",
    "    \n",
    "    \n",
    "    if count == 0:\n",
    "        sum_of_primes += num\n",
    "    \n",
    "    num += 1\n",
    "\n",
    "\n",
    "print(\"Sum of all prime numbers between 1 and 100:\", sum_of_primes)"
   ]
  },
  {
   "cell_type": "code",
   "execution_count": 6,
   "id": "8a979039-76cc-4dff-9841-274dd674692e",
   "metadata": {},
   "outputs": [],
   "source": [
    "#2) Print all Armstrong numbers between 1 and 1000 using a while loop."
   ]
  },
  {
   "cell_type": "code",
   "execution_count": 8,
   "id": "3dd6518c-a67d-415f-9382-b930af01ef71",
   "metadata": {},
   "outputs": [
    {
     "name": "stdin",
     "output_type": "stream",
     "text": [
      "enter the number 153\n"
     ]
    },
    {
     "name": "stdout",
     "output_type": "stream",
     "text": [
      "armstrong number\n"
     ]
    }
   ],
   "source": [
    "n= int(input(\"enter the number\"))\n",
    "n1=n\n",
    "power = len(str(n))\n",
    "sum=0\n",
    "\n",
    "while n>0:\n",
    "    rem=n%10\n",
    "    sum += rem**power\n",
    "    n=n//10\n",
    "if n1 == sum:\n",
    "    print(\"armstrong number\")\n",
    "else:\n",
    "    print(\"not a armstrong number\")"
   ]
  },
  {
   "cell_type": "code",
   "execution_count": 9,
   "id": "5661f9e7-5916-43a0-be48-975da6942c47",
   "metadata": {},
   "outputs": [
    {
     "name": "stdout",
     "output_type": "stream",
     "text": [
      "1\n",
      "2\n",
      "3\n",
      "4\n",
      "5\n",
      "6\n",
      "7\n",
      "8\n",
      "9\n",
      "153\n",
      "370\n",
      "371\n",
      "407\n"
     ]
    }
   ],
   "source": [
    "for num in range(1, 1000):\n",
    "   \n",
    "    num_digits = len(str(num))\n",
    "    sum = 0\n",
    "    temp = num\n",
    "    \n",
    "    \n",
    "    while temp > 0:\n",
    "        rem = temp % 10  \n",
    "        sum += rem ** num_digits  \n",
    "        temp //= 10  \n",
    "    \n",
    "    \n",
    "    if sum == num:\n",
    "        print(num)"
   ]
  },
  {
   "cell_type": "code",
   "execution_count": 10,
   "id": "91ec3fce-d2f0-415c-85c4-0b32e60b6829",
   "metadata": {},
   "outputs": [],
   "source": [
    "#3) Find the smallest number that is divisible by all numbers from 1 to 10 using a while loop."
   ]
  },
  {
   "cell_type": "code",
   "execution_count": 11,
   "id": "5c2227d4-3e7d-452b-b0fe-5cf6cf2324d0",
   "metadata": {},
   "outputs": [
    {
     "name": "stdout",
     "output_type": "stream",
     "text": [
      "The smallest number divisible by all numbers from 1 to 10 is: 2520\n"
     ]
    }
   ],
   "source": [
    "\n",
    "num = 1\n",
    "\n",
    "\n",
    "while True:\n",
    "    \n",
    "    i = 1\n",
    "    while i <= 10:\n",
    "        if num % i != 0:  \n",
    "            break\n",
    "        i += 1\n",
    "    \n",
    "    \n",
    "    if i == 11:\n",
    "        print(\"The smallest number divisible by all numbers from 1 to 10 is:\",num)\n",
    "        break  \n",
    "    \n",
    "    \n",
    "    num += 1\n",
    "\n",
    "        "
   ]
  },
  {
   "cell_type": "code",
   "execution_count": 12,
   "id": "a0789348-e105-4612-bd95-3e2f688eb587",
   "metadata": {},
   "outputs": [],
   "source": [
    "#4) Write a program to check if a number is a perfect number using a while loop."
   ]
  },
  {
   "cell_type": "code",
   "execution_count": 13,
   "id": "c9cf6748-a966-481b-94a2-9c82f8c7eb43",
   "metadata": {},
   "outputs": [
    {
     "name": "stdin",
     "output_type": "stream",
     "text": [
      "Enter a number:  6\n"
     ]
    },
    {
     "name": "stdout",
     "output_type": "stream",
     "text": [
      " perfect number is: 6\n"
     ]
    }
   ],
   "source": [
    "\n",
    "num = int(input(\"Enter a number: \"))\n",
    "\n",
    "\n",
    "sum_of_divisors = 0\n",
    "i = 1\n",
    "\n",
    "\n",
    "while i <= num // 2:  \n",
    "    if num % i == 0:  \n",
    "        sum_of_divisors += i  \n",
    "    i += 1\n",
    "\n",
    "\n",
    "if sum_of_divisors == num:\n",
    "    print(\" perfect number is:\", num)\n",
    "else:\n",
    "    print(\"Not a perfect number is:\", num)\n",
    "\n"
   ]
  },
  {
   "cell_type": "code",
   "execution_count": 14,
   "id": "71adcb9d-37e0-4ea3-afdb-5d4d9b26281e",
   "metadata": {},
   "outputs": [],
   "source": [
    "#5) Generate a sequence of numbers where each number is the sum of the previous two (similar to Fibonacci), but only until the sum exceeds a given number using a while loop."
   ]
  },
  {
   "cell_type": "code",
   "execution_count": 15,
   "id": "ec72fc28-0da7-4e86-bf14-9c74808ad73e",
   "metadata": {},
   "outputs": [],
   "source": [
    "#6) Simulate a basic login system where the user has 3 attempts to enter the correct password using a while loop."
   ]
  },
  {
   "cell_type": "code",
   "execution_count": 16,
   "id": "1196dc6f-c8b5-4988-b4b0-3f8a4c9cbe1f",
   "metadata": {},
   "outputs": [
    {
     "name": "stdin",
     "output_type": "stream",
     "text": [
      "Enter your password: 123\n",
      "Enter your password: 435\n",
      "Enter your password: 654\n"
     ]
    }
   ],
   "source": [
    "corrpass=7007\n",
    "attempt=3\n",
    "while attempt > 0:\n",
    "    password = int(input(\"Enter your password:\"))\n",
    "    if password == corrpass:\n",
    "        print(\"successful\")\n",
    "        break\n",
    "    attempt -= 1"
   ]
  },
  {
   "cell_type": "code",
   "execution_count": null,
   "id": "b94f4d70-5a71-4665-8aef-4225ae01b53d",
   "metadata": {},
   "outputs": [],
   "source": []
  }
 ],
 "metadata": {
  "kernelspec": {
   "display_name": "Python 3 (ipykernel)",
   "language": "python",
   "name": "python3"
  },
  "language_info": {
   "codemirror_mode": {
    "name": "ipython",
    "version": 3
   },
   "file_extension": ".py",
   "mimetype": "text/x-python",
   "name": "python",
   "nbconvert_exporter": "python",
   "pygments_lexer": "ipython3",
   "version": "3.11.7"
  }
 },
 "nbformat": 4,
 "nbformat_minor": 5
}
