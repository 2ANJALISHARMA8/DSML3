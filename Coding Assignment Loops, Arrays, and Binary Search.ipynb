{
 "cells": [
  {
   "cell_type": "code",
   "execution_count": null,
   "id": "dafd02d7-33b2-4212-b4c7-7d6d8cffb110",
   "metadata": {},
   "outputs": [],
   "source": [
    "#write a program that takes an interger input N and prints the multiplication table for N up to 10."
   ]
  },
  {
   "cell_type": "code",
   "execution_count": 12,
   "id": "795d1e04-f45f-4886-b3f6-18abcc242266",
   "metadata": {},
   "outputs": [
    {
     "name": "stdin",
     "output_type": "stream",
     "text": [
      "Enter the number 5\n"
     ]
    },
    {
     "name": "stdout",
     "output_type": "stream",
     "text": [
      "5 * 1 = 5\n",
      "5 * 2 = 10\n",
      "5 * 3 = 15\n",
      "5 * 4 = 20\n",
      "5 * 5 = 25\n",
      "5 * 6 = 30\n",
      "5 * 7 = 35\n",
      "5 * 8 = 40\n",
      "5 * 9 = 45\n",
      "5 * 10 = 50\n"
     ]
    }
   ],
   "source": [
    "num = int(input(\"Enter the number\"))\n",
    "i = 1\n",
    "while i <= 10:\n",
    "    Mul=num * i\n",
    "    print(\"5 * \" + str(i) + \" = \" + str(5 * i))\n",
    "    i += 1\n",
    "        "
   ]
  },
  {
   "cell_type": "code",
   "execution_count": 13,
   "id": "4a86c55c-c681-4079-9228-d13cf93f001c",
   "metadata": {},
   "outputs": [],
   "source": [
    "#write a program to caculate the sum and average of all element in an array."
   ]
  },
  {
   "cell_type": "code",
   "execution_count": 50,
   "id": "a8ed1aa9-a810-4ca5-bcd8-881668790d92",
   "metadata": {},
   "outputs": [
    {
     "name": "stdin",
     "output_type": "stream",
     "text": [
      "Enter the limit: 5\n",
      "Enter the number 4\n",
      "Enter the number 2\n",
      "Enter the number 1\n",
      "Enter the number 5\n",
      "Enter the number 5\n"
     ]
    },
    {
     "name": "stdout",
     "output_type": "stream",
     "text": [
      "Sum =  17\n",
      "Average = 3.4\n"
     ]
    }
   ],
   "source": [
    "n = int(input(\"Enter the limit:\"))\n",
    "arr = []\n",
    "count = 0\n",
    "sum = 0\n",
    "\n",
    "while count < n:\n",
    "    num = int(input(\"Enter the number\"))\n",
    "    arr.append(num)\n",
    "    sum += num  \n",
    "    count += 1\n",
    "\n",
    "\n",
    "average = sum / n\n",
    "\n",
    "\n",
    "print(\"Sum = \",sum)\n",
    "print(\"Average =\",average)\n"
   ]
  },
  {
   "cell_type": "code",
   "execution_count": null,
   "id": "fb030029-b942-46d6-9d4a-a218b5f116f9",
   "metadata": {},
   "outputs": [],
   "source": []
  },
  {
   "cell_type": "code",
   "execution_count": 37,
   "id": "7e9a4506-d772-4d0b-9309-4fe8d0ebc290",
   "metadata": {},
   "outputs": [
    {
     "name": "stdout",
     "output_type": "stream",
     "text": [
      "Minimum value: 1\n",
      "Maximum value: 9\n"
     ]
    }
   ],
   "source": [
    "\n",
    "\n",
    "arr = [1, 5, 3, 9, 2]\n",
    "\n",
    "\n",
    "min_value = arr[0]  \n",
    "max_value = arr[0]\n",
    "\n",
    "\n",
    "i = 1  \n",
    "while i < len(arr):\n",
    "    \n",
    "    if arr[i] < min_value:\n",
    "        min_value = arr[i]  \n",
    "    if arr[i] > max_value:\n",
    "        max_value = arr[i]  \n",
    "    i += 1\n",
    "\n",
    "\n",
    "print(\"Minimum value:\",min_value)\n",
    "print(\"Maximum value:\", max_value)\n",
    "\n",
    "\n",
    "\n",
    "\n",
    "\n"
   ]
  },
  {
   "cell_type": "code",
   "execution_count": null,
   "id": "ab330402-5b49-43d9-b988-55bf8a8c1c83",
   "metadata": {},
   "outputs": [],
   "source": [
    "#Implement the binary search algorithm to find a target value in a sorted array. Return the index of the target if found, or -1 if not found."
   ]
  },
  {
   "cell_type": "code",
   "execution_count": 49,
   "id": "7b630c1b-dedb-4aa0-be3f-5ce87861fc71",
   "metadata": {},
   "outputs": [
    {
     "name": "stdin",
     "output_type": "stream",
     "text": [
      "Enter the limit 5\n",
      "Enter the number 1\n",
      "Enter the number 2\n",
      "Enter the number 3\n",
      "Enter the number 4\n",
      "Enter the number 5\n",
      "Enter the target 5\n"
     ]
    },
    {
     "name": "stdout",
     "output_type": "stream",
     "text": [
      "Index: 4\n"
     ]
    }
   ],
   "source": [
    "\n",
    "n = int(input(\"Enter the limit\"))\n",
    "arr = []\n",
    "\n",
    "i = 0\n",
    "while i < n:\n",
    "    num = int(input(\"Enter the number\"))\n",
    "    arr.append(num)     \n",
    "    i += 1\n",
    "\n",
    "target = int(input(\"Enter the target\"))\n",
    "\n",
    "left = 0\n",
    "right = n - 1\n",
    "\n",
    "while left <= right:\n",
    "    mid = (left + right) // 2  \n",
    "    \n",
    "    \n",
    "    if arr[mid] == target:\n",
    "        print(\"Index:\",mid)  \n",
    "        break\n",
    "    \n",
    "    elif arr[mid] > target:\n",
    "        right = mid - 1\n",
    "    \n",
    "    else:\n",
    "        left = mid + 1\n",
    "\n",
    "\n",
    "if left > right:\n",
    "    print(\"-1\")\n",
    "\n"
   ]
  },
  {
   "cell_type": "code",
   "execution_count": null,
   "id": "24688ca6-33f3-444a-a40d-e1b59a68e747",
   "metadata": {},
   "outputs": [],
   "source": []
  }
 ],
 "metadata": {
  "kernelspec": {
   "display_name": "Python 3 (ipykernel)",
   "language": "python",
   "name": "python3"
  },
  "language_info": {
   "codemirror_mode": {
    "name": "ipython",
    "version": 3
   },
   "file_extension": ".py",
   "mimetype": "text/x-python",
   "name": "python",
   "nbconvert_exporter": "python",
   "pygments_lexer": "ipython3",
   "version": "3.11.7"
  }
 },
 "nbformat": 4,
 "nbformat_minor": 5
}
