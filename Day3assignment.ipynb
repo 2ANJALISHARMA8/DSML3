{
 "cells": [
  {
   "cell_type": "code",
   "execution_count": 29,
   "id": "5dce6701-ce21-4cff-9e98-28391394cc82",
   "metadata": {},
   "outputs": [
    {
     "name": "stdin",
     "output_type": "stream",
     "text": [
      "Enter the age 55\n"
     ]
    },
    {
     "name": "stdout",
     "output_type": "stream",
     "text": [
      "movie price is 200 rupees\n"
     ]
    }
   ],
   "source": [
    "age = int(input(\"Enter the age\"))\n",
    "if age<12:\n",
    "          print(\" movie price is 100 rupees\")\n",
    "elif 12=age<=60:\n",
    "          print(\" movie price is 250 rupees\")\n",
    "else:\n",
    "          print(\"movie price is 200 rupees\")"
   ]
  },
  {
   "cell_type": "code",
   "execution_count": null,
   "id": "b118c361-1be9-4645-8fef-cd49b8fd5d3a",
   "metadata": {},
   "outputs": [],
   "source": []
  }
 ],
 "metadata": {
  "kernelspec": {
   "display_name": "Python 3 (ipykernel)",
   "language": "python",
   "name": "python3"
  },
  "language_info": {
   "codemirror_mode": {
    "name": "ipython",
    "version": 3
   },
   "file_extension": ".py",
   "mimetype": "text/x-python",
   "name": "python",
   "nbconvert_exporter": "python",
   "pygments_lexer": "ipython3",
   "version": "3.11.7"
  }
 },
 "nbformat": 4,
 "nbformat_minor": 5
}
