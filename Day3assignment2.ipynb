{
 "cells": [
  {
   "cell_type": "code",
   "execution_count": 48,
   "id": "ed948391-e586-4745-8f31-6e4619699f96",
   "metadata": {},
   "outputs": [
    {
     "name": "stdout",
     "output_type": "stream",
     "text": [
      "Choose your option:\n",
      "1. Rock\n",
      "2. Paper\n",
      "3. Scissors\n"
     ]
    },
    {
     "name": "stdin",
     "output_type": "stream",
     "text": [
      "Player 1, enter your choice (1, 2, or 3):  2\n",
      "Player 2, enter your choice (1, 2, or 3):  1\n"
     ]
    },
    {
     "name": "stdout",
     "output_type": "stream",
     "text": [
      "Player 1 is the winner!\n"
     ]
    }
   ],
   "source": [
    "print(\"Choose your option:\")\n",
    "print(\"1. Rock\")\n",
    "print(\"2. Paper\")\n",
    "print(\"3. Scissors\")\n",
    "\n",
    "player1 = int(input(\"Player 1, enter your choice (1, 2, or 3): \"))\n",
    "player2 = int(input(\"Player 2, enter your choice (1, 2, or 3): \"))\n",
    "\n",
    "choices = {1: \"rock\", 2: \"paper\", 3: \"scissors\"}\n",
    "\n",
    "if player1 == player2:\n",
    "        print(\"It's a draw!\")\n",
    "elif (player1 == 1 and player2 == 3) or (player1 == 2 and player2 == 1) or (player1 == 3 and player2 == 2):\n",
    "        print(\"Player 1 is the winner!\")\n",
    "else:\n",
    "        print(\"Player 2 is the winner!\")"
   ]
  },
  {
   "cell_type": "code",
   "execution_count": null,
   "id": "b38a75f5-8cc9-4242-b009-a269fdf055ae",
   "metadata": {},
   "outputs": [],
   "source": []
  }
 ],
 "metadata": {
  "kernelspec": {
   "display_name": "Python 3 (ipykernel)",
   "language": "python",
   "name": "python3"
  },
  "language_info": {
   "codemirror_mode": {
    "name": "ipython",
    "version": 3
   },
   "file_extension": ".py",
   "mimetype": "text/x-python",
   "name": "python",
   "nbconvert_exporter": "python",
   "pygments_lexer": "ipython3",
   "version": "3.11.7"
  }
 },
 "nbformat": 4,
 "nbformat_minor": 5
}
