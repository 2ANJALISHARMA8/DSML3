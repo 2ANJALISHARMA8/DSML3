{
 "cells": [
  {
   "cell_type": "code",
   "execution_count": 1,
   "id": "0c788d66-c4cc-4492-a8b3-d52fadcfdc17",
   "metadata": {},
   "outputs": [],
   "source": [
    "#1) Write a program to print numbers from 1 to 10 using a while loop."
   ]
  },
  {
   "cell_type": "code",
   "execution_count": 2,
   "id": "dd0e1c5c-73ca-4236-98bc-008d7b6e0688",
   "metadata": {},
   "outputs": [
    {
     "name": "stdout",
     "output_type": "stream",
     "text": [
      "1\n",
      "2\n",
      "3\n",
      "4\n",
      "5\n",
      "6\n",
      "7\n",
      "8\n",
      "9\n",
      "10\n"
     ]
    }
   ],
   "source": [
    "i=1\n",
    "while i<11:\n",
    "    print(i)\n",
    "    i += 1"
   ]
  },
  {
   "cell_type": "code",
   "execution_count": 3,
   "id": "409614ce-9b5e-4b94-8452-c69b89c512a4",
   "metadata": {},
   "outputs": [],
   "source": [
    "#2) Write a program to calculate the sum of all even numbers between 1 and 100 using a while loop."
   ]
  },
  {
   "cell_type": "code",
   "execution_count": 11,
   "id": "4b10e3b8-df4f-4b9e-8a84-5a7808f90099",
   "metadata": {},
   "outputs": [
    {
     "name": "stdout",
     "output_type": "stream",
     "text": [
      "even number sum: 2450\n"
     ]
    }
   ],
   "source": [
    "i=1\n",
    "sum=0\n",
    "while i<100:\n",
    "    if i%2 == 0:\n",
    "        sum += i\n",
    "    i += 1\n",
    "print(\"even number sum:\", sum)"
   ]
  },
  {
   "cell_type": "code",
   "execution_count": 12,
   "id": "af0ad0f0-9043-4f1d-a759-8acc2b597fc5",
   "metadata": {},
   "outputs": [],
   "source": [
    "#3) Create a while loop that prints the numbers in reverse order from 10 to 1."
   ]
  },
  {
   "cell_type": "code",
   "execution_count": 22,
   "id": "70a06abd-50ec-4845-9fe1-99e61b0c6dd3",
   "metadata": {},
   "outputs": [
    {
     "name": "stdout",
     "output_type": "stream",
     "text": [
      "10\n",
      "9\n",
      "8\n",
      "7\n",
      "6\n",
      "5\n",
      "4\n",
      "3\n",
      "2\n",
      "1\n"
     ]
    }
   ],
   "source": [
    "i=10\n",
    "while i>=1:\n",
    "    print(i)\n",
    "    i -= 1"
   ]
  },
  {
   "cell_type": "code",
   "execution_count": 23,
   "id": "a75153f4-83cd-4524-8d53-fa38e9d00169",
   "metadata": {},
   "outputs": [],
   "source": [
    "#4) Write a program to count the number of digits in a given number using a while loop.\n",
    "#Example: Input: 12345, Output: 5."
   ]
  },
  {
   "cell_type": "code",
   "execution_count": 36,
   "id": "8788d3d6-c64c-438d-8743-e03d5bfe3cf9",
   "metadata": {},
   "outputs": [
    {
     "name": "stdin",
     "output_type": "stream",
     "text": [
      "enter the number: 12345\n"
     ]
    },
    {
     "name": "stdout",
     "output_type": "stream",
     "text": [
      "The number of digits is: 5\n"
     ]
    }
   ],
   "source": [
    "num = int(input(\"enter the number:\"))\n",
    "count = 0\n",
    "while num>0:\n",
    "    num= num//10\n",
    "    count += 1\n",
    "print(\"The number of digits is:\", count)\n",
    "    \n",
    "    "
   ]
  },
  {
   "cell_type": "code",
   "execution_count": 37,
   "id": "c1ce1ab9-e4b7-471c-81c5-e12d4bb1c670",
   "metadata": {},
   "outputs": [],
   "source": [
    "#5) Write a program using a while loop to find the sum of digits of a number.\n",
    "#Example: Input: 123, Output: 6 (1 + 2 + 3)."
   ]
  },
  {
   "cell_type": "code",
   "execution_count": 46,
   "id": "dc891eea-f272-4b22-8218-d68143710ff8",
   "metadata": {},
   "outputs": [
    {
     "name": "stdin",
     "output_type": "stream",
     "text": [
      "enter the number: 123\n"
     ]
    },
    {
     "name": "stdout",
     "output_type": "stream",
     "text": [
      "The number of digits is: 6\n"
     ]
    }
   ],
   "source": [
    "num = int(input(\"enter the number:\"))\n",
    "\n",
    "\n",
    "sum=0\n",
    "while num>0:\n",
    "    rem=num%10\n",
    "    sum=sum+rem\n",
    "    num= num//10\n",
    "    \n",
    "print(\"The number of digits is:\", sum)"
   ]
  },
  {
   "cell_type": "code",
   "execution_count": 47,
   "id": "082b47fc-ae73-4c48-b34f-276b2dc536f4",
   "metadata": {},
   "outputs": [],
   "source": [
    "#6) Write a program to display the multiplication table of a number entered by the user using a while loop."
   ]
  },
  {
   "cell_type": "code",
   "execution_count": 61,
   "id": "bcf8c04d-7628-4da8-9b99-03ee888d865d",
   "metadata": {},
   "outputs": [
    {
     "name": "stdin",
     "output_type": "stream",
     "text": [
      "enter the number: 1234\n"
     ]
    },
    {
     "name": "stdout",
     "output_type": "stream",
     "text": [
      "The number of digits is: 24\n"
     ]
    }
   ],
   "source": [
    "num = int(input(\"enter the number:\"))\n",
    "mul =1\n",
    "while num>0:\n",
    "    rem=num%10\n",
    "    mul=mul*rem\n",
    "    num= num//10\n",
    "\n",
    "print(\"The number of digits is:\", mul)"
   ]
  },
  {
   "cell_type": "code",
   "execution_count": 62,
   "id": "9fd249b1-fd17-41b9-bb64-acb72c7817ad",
   "metadata": {},
   "outputs": [],
   "source": [
    "#7) Create a program using a while loop that checks if a number is prime.\n",
    "#Example: Input: 7, Output: Prime."
   ]
  },
  {
   "cell_type": "code",
   "execution_count": 92,
   "id": "1010ba5b-9b31-45f3-b412-eb296a4cb7a8",
   "metadata": {},
   "outputs": [
    {
     "name": "stdin",
     "output_type": "stream",
     "text": [
      "enter the number: 4\n"
     ]
    },
    {
     "name": "stdout",
     "output_type": "stream",
     "text": [
      "4 is not a prime number.\n"
     ]
    }
   ],
   "source": [
    "num = int(input(\"enter the number:\"))\n",
    "if num<1:\n",
    "    print(\"The number is not prime\")\n",
    "else:\n",
    "    i=2\n",
    "    while i <= num:\n",
    "        if num % i == 0:\n",
    "            print(f\"{num} is not a prime number.\")\n",
    "            break\n",
    "            i += 1\n",
    "        else:\n",
    "            print(f\"{num} is a prime number.\")\n",
    "    \n",
    "    "
   ]
  },
  {
   "cell_type": "code",
   "execution_count": 93,
   "id": "869ae8e6-e2ec-4e84-8874-77a7dcd2e595",
   "metadata": {},
   "outputs": [],
   "source": [
    "#8) Write a program to keep asking the user to enter positive numbers until they enter a negative number, then display the total count of numbers entered."
   ]
  },
  {
   "cell_type": "code",
   "execution_count": 123,
   "id": "95bbe7ed-f75b-4393-b38f-f92891c52a95",
   "metadata": {},
   "outputs": [
    {
     "name": "stdin",
     "output_type": "stream",
     "text": [
      "enter the number 6\n",
      "enter the number 8\n",
      "enter the number 6\n",
      "enter the number -5\n"
     ]
    },
    {
     "name": "stdout",
     "output_type": "stream",
     "text": [
      "negative number\n",
      "Total count of positive number 3\n"
     ]
    }
   ],
   "source": [
    "count=0\n",
    "while True:\n",
    "    num = int(input(\"enter the number\"))\n",
    "    if num<0:\n",
    "        print (\"negative number\")\n",
    "        break\n",
    "    count += 1\n",
    "print(\"Total count of positive number\", count)"
   ]
  },
  {
   "cell_type": "code",
   "execution_count": 124,
   "id": "6752f038-8c37-4e59-b9ad-55d6fcfcd5cc",
   "metadata": {},
   "outputs": [],
   "source": [
    "#10) Write a program using a while loop to find the largest digit in a number."
   ]
  },
  {
   "cell_type": "code",
   "execution_count": 131,
   "id": "93ddd01a-4279-41fc-a18f-89195cb2eb72",
   "metadata": {},
   "outputs": [
    {
     "name": "stdin",
     "output_type": "stream",
     "text": [
      "Enter the number: 6547\n"
     ]
    },
    {
     "name": "stdout",
     "output_type": "stream",
     "text": [
      "The largest digit is: 7\n"
     ]
    }
   ],
   "source": [
    "num = int(input(\"Enter the number:\"))\n",
    "\n",
    "\n",
    "largest_digit = 0\n",
    "\n",
    "while num > 0:\n",
    "    \n",
    "    digit = num % 10\n",
    "    \n",
    "    \n",
    "    if digit > largest_digit:\n",
    "        largest_digit = digit\n",
    "    \n",
    "   \n",
    "    num = num // 10\n",
    "\n",
    "\n",
    "print(\"The largest digit is:\", largest_digit)\n",
    "\n"
   ]
  },
  {
   "cell_type": "code",
   "execution_count": null,
   "id": "a0cca76e-1c6f-4afc-a6f9-38d7977f7051",
   "metadata": {},
   "outputs": [],
   "source": []
  }
 ],
 "metadata": {
  "kernelspec": {
   "display_name": "Python 3 (ipykernel)",
   "language": "python",
   "name": "python3"
  },
  "language_info": {
   "codemirror_mode": {
    "name": "ipython",
    "version": 3
   },
   "file_extension": ".py",
   "mimetype": "text/x-python",
   "name": "python",
   "nbconvert_exporter": "python",
   "pygments_lexer": "ipython3",
   "version": "3.11.7"
  }
 },
 "nbformat": 4,
 "nbformat_minor": 5
}
