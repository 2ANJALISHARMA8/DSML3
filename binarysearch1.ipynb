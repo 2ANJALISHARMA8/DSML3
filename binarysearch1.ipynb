{
 "cells": [
  {
   "cell_type": "code",
   "execution_count": null,
   "id": "7765ed4b-4c20-488d-8887-7b66fc73b11e",
   "metadata": {},
   "outputs": [],
   "source": [
    "#Given a list which is sorted and all the number is unique and greater than zero given a number find whether it is exist or not "
   ]
  },
  {
   "cell_type": "code",
   "execution_count": 31,
   "id": "400f0d3a-f68d-41ef-8a89-4afd32e849ae",
   "metadata": {},
   "outputs": [
    {
     "name": "stdin",
     "output_type": "stream",
     "text": [
      "enter the target: 5\n"
     ]
    },
    {
     "name": "stdout",
     "output_type": "stream",
     "text": [
      "Target is present in the given list which is in index number: 0\n"
     ]
    }
   ],
   "source": [
    "target = int(input(\"Enter the target:\"))\n",
    "li= [5,3,18,9,3,5,11,32]\n",
    "\n",
    "for i in range (len(li)):\n",
    "    if li[i]==target:\n",
    "        print(\"Target is present in the given list which is in index number:\",i)\n",
    "        break\n",
    "    else:\n",
    "        print(\"Given target is not present\")\n",
    "        \n",
    "    "
   ]
  },
  {
   "cell_type": "code",
   "execution_count": 23,
   "id": "385b8190-6d0b-4d9e-81e9-2fd4fb54267f",
   "metadata": {},
   "outputs": [],
   "source": [
    "#Given a list in sorted order and elements are not unique li=[1,1,4,4,11,11,5,5,9,9] given a target (target will exist always) find the first index of the given number"
   ]
  },
  {
   "cell_type": "code",
   "execution_count": 32,
   "id": "6f8a5a27-d164-4fe6-90d3-3d8e81c7b9db",
   "metadata": {},
   "outputs": [
    {
     "name": "stdin",
     "output_type": "stream",
     "text": [
      "Enter the target: 11\n"
     ]
    },
    {
     "name": "stdout",
     "output_type": "stream",
     "text": [
      "First index of the given number is: 4\n"
     ]
    }
   ],
   "source": [
    "target = int(input(\"Enter the target:\"))\n",
    "li=[1,1,4,4,11,11,5,5,9,9]\n",
    "\n",
    "for i in range (len(li)):\n",
    "    if li[i]==target:\n",
    "        print(\"First index of the given number is:\",i)\n",
    "        break\n",
    "\n",
    "        "
   ]
  },
  {
   "cell_type": "code",
   "execution_count": 60,
   "id": "0284fc57-4d1d-40cb-9959-c15e419e5ae1",
   "metadata": {},
   "outputs": [
    {
     "name": "stdin",
     "output_type": "stream",
     "text": [
      "Enter the num: 56\n"
     ]
    },
    {
     "name": "stdout",
     "output_type": "stream",
     "text": [
      "not a perfect square\n",
      "not a perfect square\n",
      "not a perfect square\n",
      "not a perfect square\n",
      "not a perfect square\n",
      "not a perfect square\n",
      "not a perfect square\n",
      "not a perfect square\n",
      "not a perfect square\n",
      "not a perfect square\n",
      "not a perfect square\n",
      "not a perfect square\n",
      "not a perfect square\n",
      "not a perfect square\n",
      "not a perfect square\n",
      "not a perfect square\n",
      "not a perfect square\n",
      "not a perfect square\n",
      "not a perfect square\n",
      "not a perfect square\n",
      "not a perfect square\n",
      "not a perfect square\n",
      "not a perfect square\n",
      "not a perfect square\n",
      "not a perfect square\n",
      "not a perfect square\n",
      "not a perfect square\n",
      "not a perfect square\n",
      "not a perfect square\n",
      "not a perfect square\n",
      "not a perfect square\n",
      "not a perfect square\n",
      "not a perfect square\n",
      "not a perfect square\n",
      "not a perfect square\n",
      "not a perfect square\n",
      "not a perfect square\n",
      "not a perfect square\n",
      "not a perfect square\n",
      "not a perfect square\n",
      "not a perfect square\n",
      "not a perfect square\n",
      "not a perfect square\n",
      "not a perfect square\n",
      "not a perfect square\n",
      "not a perfect square\n",
      "not a perfect square\n",
      "not a perfect square\n"
     ]
    }
   ],
   "source": [
    "num = int(input(\"Enter the num:\"))\n",
    "for i in range (num):\n",
    "    if i*i == num:\n",
    "        i +1\n",
    "        print(i)\n",
    "        break\n",
    "        \n",
    "    elif i*i>num:\n",
    "        print(\"not a perfect square\")\n",
    "        \n",
    "    "
   ]
  },
  {
   "cell_type": "code",
   "execution_count": null,
   "id": "5c4e0205-70af-4493-b010-4e6086bc4a74",
   "metadata": {},
   "outputs": [],
   "source": []
  }
 ],
 "metadata": {
  "kernelspec": {
   "display_name": "Python 3 (ipykernel)",
   "language": "python",
   "name": "python3"
  },
  "language_info": {
   "codemirror_mode": {
    "name": "ipython",
    "version": 3
   },
   "file_extension": ".py",
   "mimetype": "text/x-python",
   "name": "python",
   "nbconvert_exporter": "python",
   "pygments_lexer": "ipython3",
   "version": "3.11.7"
  }
 },
 "nbformat": 4,
 "nbformat_minor": 5
}
