{
 "cells": [
  {
   "cell_type": "code",
   "execution_count": 1,
   "id": "c1fe47b9-e67b-4a8d-aece-a6d12c4056ae",
   "metadata": {},
   "outputs": [],
   "source": [
    "#Given a list which is sorted and all the number is unique and greater than zero given a number find whether it is exist or not "
   ]
  },
  {
   "cell_type": "code",
   "execution_count": 17,
   "id": "8ad70460-ff57-4800-8553-93780c310f46",
   "metadata": {},
   "outputs": [
    {
     "name": "stdout",
     "output_type": "stream",
     "text": [
      "Target is present on index number: 7\n"
     ]
    }
   ],
   "source": [
    "li = [2,4,6,8,10,21,35,46]\n",
    "target = 46\n",
    "\n",
    "\n",
    "left = 0\n",
    "right = len(li) - 1\n",
    "\n",
    "while left <= right:\n",
    "    mid = (left + right) // 2  \n",
    "    if li[mid] == target:\n",
    "        print(\"Target is present on index number:\",mid)  \n",
    "        break\n",
    "    elif li[mid] < target:\n",
    "        left = mid + 1  \n",
    "    else:\n",
    "        right = mid - 1  \n",
    "else:\n",
    "    print(\"Target is not present in the list\")"
   ]
  },
  {
   "cell_type": "code",
   "execution_count": 18,
   "id": "74f6bc14-3831-48a0-be05-638b810b4ebe",
   "metadata": {},
   "outputs": [],
   "source": [
    "#Given a list in sorted order and elements are not unique li=[1,1,4,4,11,11,5,5,9,9] given a target (target will exist always) find the first index of the given number"
   ]
  },
  {
   "cell_type": "code",
   "execution_count": 23,
   "id": "f5d21782-70c2-4142-b008-f4d1959f38bb",
   "metadata": {},
   "outputs": [
    {
     "name": "stdout",
     "output_type": "stream",
     "text": [
      "Target is present on index number: 5\n"
     ]
    }
   ],
   "source": [
    "li = [1, 1, 4, 4, 5, 5, 9, 9, 11, 11]\n",
    "target = 1 \n",
    "\n",
    "left = 0\n",
    "right = len(li) - 1\n",
    "\n",
    "while left <= right:\n",
    "    mid = (left + right) // 2\n",
    "\n",
    "    if li[mid] == target:\n",
    "        \n",
    "        if mid == 0 or li[mid - 1] != target:\n",
    "            print(mid)  \n",
    "            break\n",
    "        else:\n",
    "            right = mid - 1  \n",
    "    elif li[mid] < target:\n",
    "        left = mid + 1\n",
    "    else:\n",
    "        right = mid - 1"
   ]
  },
  {
   "cell_type": "code",
   "execution_count": null,
   "id": "ad7b9ea0-512a-4c1f-ba8c-30b756461487",
   "metadata": {},
   "outputs": [],
   "source": []
  }
 ],
 "metadata": {
  "kernelspec": {
   "display_name": "Python 3 (ipykernel)",
   "language": "python",
   "name": "python3"
  },
  "language_info": {
   "codemirror_mode": {
    "name": "ipython",
    "version": 3
   },
   "file_extension": ".py",
   "mimetype": "text/x-python",
   "name": "python",
   "nbconvert_exporter": "python",
   "pygments_lexer": "ipython3",
   "version": "3.11.7"
  }
 },
 "nbformat": 4,
 "nbformat_minor": 5
}
