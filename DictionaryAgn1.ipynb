{
 "cells": [
  {
   "cell_type": "code",
   "execution_count": 14,
   "id": "b41bbd2f-fab5-40a9-a19f-933e3b16d1db",
   "metadata": {},
   "outputs": [
    {
     "name": "stdout",
     "output_type": "stream",
     "text": [
      "{1: 0, 2: 1, 3: 2, 4: 3, 5: 4}\n"
     ]
    }
   ],
   "source": [
    "li=[1,2,3,4,5]\n",
    "d={}\n",
    "for key,value in enumerate (li):\n",
    "    d[value]= key\n",
    "print(d)\n",
    "\n"
   ]
  },
  {
   "cell_type": "code",
   "execution_count": 18,
   "id": "bfe6ac8a-01cf-41ab-aa65-8ee5ed99de03",
   "metadata": {},
   "outputs": [
    {
     "name": "stdout",
     "output_type": "stream",
     "text": [
      "a\n",
      "i\n"
     ]
    }
   ],
   "source": [
    "s = \"anjali\"\n",
    "vowels = \"aeiou\"\n",
    "d = {}\n",
    "for i in S:\n",
    "    if i in vowels:\n",
    "        if i in d:\n",
    "            d[i] += 1\n",
    "        else:\n",
    "            d[i] = 1\n",
    "            print(i)"
   ]
  },
  {
   "cell_type": "code",
   "execution_count": null,
   "id": "e0be0652-1372-4cfb-9dd4-7a555e2f964d",
   "metadata": {},
   "outputs": [],
   "source": [
    "#1. Count the Frequency of Elements in a List\n",
    "#Problem: Write a Python function that takes a list of elements and returns a dictionary where the\n",
    "#keys are the elements and the values are the number of times each element appears in the list."
   ]
  },
  {
   "cell_type": "code",
   "execution_count": 22,
   "id": "93d22190-be99-4a6a-b82b-61a8bebad670",
   "metadata": {},
   "outputs": [
    {
     "name": "stdout",
     "output_type": "stream",
     "text": [
      "{1: 1, 2: 2, 3: 2, 4: 1}\n"
     ]
    }
   ],
   "source": [
    "list = [1,2,2,3,3,4]\n",
    "d={}\n",
    "for i in list:\n",
    "    if i in d:\n",
    "        d[i] += 1\n",
    "    else:\n",
    "        d[i] = 1\n",
    "print (d)"
   ]
  },
  {
   "cell_type": "code",
   "execution_count": null,
   "id": "812602d7-970e-4f5b-9c39-0689606f94fb",
   "metadata": {},
   "outputs": [],
   "source": [
    "#1. Count the Frequency of Elements in a List\n",
    "#Problem: Write a Python function that takes a list of elements and returns a dictionary where the\n",
    "#keys are the elements and the values are the number of times each element appears in the list."
   ]
  },
  {
   "cell_type": "code",
   "execution_count": 66,
   "id": "55017f4b-edf6-44c7-b344-ce9645451e55",
   "metadata": {},
   "outputs": [
    {
     "name": "stdout",
     "output_type": "stream",
     "text": [
      "{'b': 5, 'c': 4, 'a': 1}\n"
     ]
    }
   ],
   "source": [
    "d1 = {'a': 1, 'b': 2}\n",
    "d2 = {'b': 3, 'c': 4}\n",
    "\n",
    "for i in d1:\n",
    "    if i in d2:\n",
    "        d2[i] += d1[i] \n",
    "    else:\n",
    "        d2[i] = d1[i]  \n",
    "print(d2)\n",
    "\n"
   ]
  },
  {
   "cell_type": "code",
   "execution_count": null,
   "id": "0261a9c2-ab71-47df-b90b-d84791793ff6",
   "metadata": {},
   "outputs": [],
   "source": [
    "#3. Group Words by Length Problem: Write a Python function that takes a list of words and returns a dictionary where the keysare the lengths of the words and the values are lists of words of that length."
   ]
  },
  {
   "cell_type": "code",
   "execution_count": 50,
   "id": "1d9a5966-2a8d-4f54-8553-89372428fae4",
   "metadata": {},
   "outputs": [
    {
     "name": "stdout",
     "output_type": "stream",
     "text": [
      "{3: ['cat', 'dog', 'bat'], 8: ['elephant']}\n"
     ]
    }
   ],
   "source": [
    "S = ['cat', 'dog', 'elephant', 'bat']\n",
    "d = {}\n",
    "\n",
    "for i in S:\n",
    "    wl = len(i)\n",
    "    if wl in d:\n",
    "        d[wl].append(i)  \n",
    "    else:\n",
    "        d[wl] = [i]  \n",
    "\n",
    "print(d)\n"
   ]
  },
  {
   "cell_type": "code",
   "execution_count": null,
   "id": "8be0128f-ebc2-4a47-9c16-b3be377cec0f",
   "metadata": {},
   "outputs": [],
   "source": [
    "#Problem: Write a Python function that takes a dictionary and inverts it. The values become keys, and\n",
    "#the keys become values. If there are duplicate values, store them as lists of keys.\n"
   ]
  },
  {
   "cell_type": "code",
   "execution_count": 64,
   "id": "d4ad0e64-8465-49cc-876b-34abc2a94abd",
   "metadata": {},
   "outputs": [
    {
     "name": "stdout",
     "output_type": "stream",
     "text": [
      "{1: ['a', 'c'], 2: ['b']}\n"
     ]
    }
   ],
   "source": [
    "d = {'a': 1, 'b': 2, 'c': 1}\n",
    "d1 = {}\n",
    "\n",
    "for i in d:\n",
    "    li = d[i]\n",
    "    if li in d1:\n",
    "        d1[li].append(i)\n",
    "    else:\n",
    "        d1[li] = [i]\n",
    "\n",
    "print(d1)\n",
    "\n",
    "    \n"
   ]
  },
  {
   "cell_type": "code",
   "execution_count": 67,
   "id": "a40e705f-8d92-4a6c-8a0b-10d3a83e5cdf",
   "metadata": {},
   "outputs": [],
   "source": [
    "#Problem: Write a Python function that takes a string and returns the most frequent character in the\n",
    "#string. If there are ties, return the character that appears first in the string"
   ]
  },
  {
   "cell_type": "code",
   "execution_count": 94,
   "id": "7717cf8c-e3f7-4fe2-9066-f1ae05dda211",
   "metadata": {},
   "outputs": [
    {
     "name": "stdout",
     "output_type": "stream",
     "text": [
      "l\n"
     ]
    }
   ],
   "source": [
    "S = 'hello'\n",
    "d = {}\n",
    "for i in S:\n",
    "    if i in d:\n",
    "        d[i] += 1\n",
    "    else:\n",
    "        d[i] = 1\n",
    "\n",
    "\n",
    "count = 0\n",
    "firstcount = None\n",
    "for i in S:  \n",
    "    if d[i] > count:\n",
    "        count = d[i]\n",
    "        firstcount = i\n",
    "        \n",
    "\n",
    "print(fc)\n"
   ]
  },
  {
   "cell_type": "code",
   "execution_count": null,
   "id": "b37612a0-49f5-4f92-a3aa-4f4e8efed1b8",
   "metadata": {},
   "outputs": [],
   "source": []
  }
 ],
 "metadata": {
  "kernelspec": {
   "display_name": "Python 3 (ipykernel)",
   "language": "python",
   "name": "python3"
  },
  "language_info": {
   "codemirror_mode": {
    "name": "ipython",
    "version": 3
   },
   "file_extension": ".py",
   "mimetype": "text/x-python",
   "name": "python",
   "nbconvert_exporter": "python",
   "pygments_lexer": "ipython3",
   "version": "3.11.7"
  }
 },
 "nbformat": 4,
 "nbformat_minor": 5
}
