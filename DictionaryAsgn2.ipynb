{
 "cells": [
  {
   "cell_type": "code",
   "execution_count": null,
   "id": "706569a9-7210-4b1e-9b9c-6172c091d925",
   "metadata": {},
   "outputs": [],
   "source": [
    "#Write a program to compute the factorial of numbers from 1 to 10 efficiently using a dictionary to store already comp."
   ]
  },
  {
   "cell_type": "code",
   "execution_count": 11,
   "id": "a31e237b-2183-4d67-94dd-d5629904a545",
   "metadata": {},
   "outputs": [
    {
     "name": "stdout",
     "output_type": "stream",
     "text": [
      "Factorial of 1 = 1\n",
      "Factorial of 2 = 2\n",
      "Factorial of 3 = 6\n",
      "Factorial of 4 = 24\n",
      "Factorial of 5 = 120\n",
      "Factorial of 6 = 720\n",
      "Factorial of 7 = 5040\n",
      "Factorial of 8 = 40320\n",
      "Factorial of 9 = 362880\n",
      "Factorial of 10 = 3628800\n"
     ]
    }
   ],
   "source": [
    "f = {}                   # Dictionary to store factorials of numbers\n",
    "for i in range(1, 11):   # Loop through numbers from 1 to 10\n",
    "    if i == 1:            #Factorial of 1 is 1\n",
    "        f[i] = 1\n",
    "    else:                #For numbers greater than 1,f[i-1] is the factorial of (i-1), so multiply it by i to get the factorial of i\n",
    "       f[i] = f[i-1] * i\n",
    "    print(\"Factorial of\", i,\"=\",f[i])  # Print the factorial for each number"
   ]
  },
  {
   "cell_type": "code",
   "execution_count": null,
   "id": "fe676739-0d8b-4d94-a1a3-0bd3cfaaec10",
   "metadata": {},
   "outputs": [],
   "source": [
    "#Given a list of numbers, write a program to find all duplicate numbers and their counts using a loop and dictionary."
   ]
  },
  {
   "cell_type": "code",
   "execution_count": 18,
   "id": "65584539-1015-46ef-b320-88cb0e76abd4",
   "metadata": {},
   "outputs": [
    {
     "name": "stdout",
     "output_type": "stream",
     "text": [
      "Duplicate Numbers: {4: 2, 3: 2, 6: 2}\n"
     ]
    }
   ],
   "source": [
    "list = [4, 3, 6, 2, 1, 6, 3, 4] #given list\n",
    "dlist = {}                      #Dictionary to store the frequency of each number\n",
    "for i in list:\n",
    "    if i in dlist:\n",
    "        dlist[i] += 1          #If the number is already in dlist, increment its count\n",
    "    else:\n",
    "        dlist[i] = 1           #If the number is not in dlist, set its count to 1\n",
    "duplicates = {}                #Dictionary to store the duplicate numbers\n",
    "for i in dlist:\n",
    "    if dlist[i] > 1:           #If the number appears more than once\n",
    "        duplicates[i] = dlist[i] # Add the number and its count to the duplicates dictionary\n",
    "print(\"Duplicate Numbers:\", duplicates)\n"
   ]
  },
  {
   "cell_type": "code",
   "execution_count": 16,
   "id": "3a980645-6361-4659-9050-a0f6e4747a3d",
   "metadata": {},
   "outputs": [],
   "source": [
    "#Write a program to find the most frequent element in a list using a dictionary and loop."
   ]
  },
  {
   "cell_type": "code",
   "execution_count": 26,
   "id": "9cc592b7-429c-4be7-8492-ce53962c9713",
   "metadata": {},
   "outputs": [
    {
     "name": "stdout",
     "output_type": "stream",
     "text": [
      "Most Frequent Element in the list is 1 appears 3 times\n"
     ]
    }
   ],
   "source": [
    "li = [1, 3, 2, 1, 5, 1, 3, 2, 2]  #given list\n",
    "d = {}                             #Dictionary to store the frequency element\n",
    "for i in li: # Loop through each element in li\n",
    "    if i in d: # Loop through each element in d\n",
    "        d[i] += 1 # If the number is already in d, increment its count\n",
    "    else:\n",
    "        d[i] = 1  # If the number is not in d, set its count to 1\n",
    "\n",
    "count = 0  # To store the highest frequency\n",
    "f = None    #To store the element with the highest frequency\n",
    "for i in d:\n",
    "    if d[i] > count: # If the current frequency is higher than the previous count\n",
    "        count = d[i]  # Update the count\n",
    "        f = i         # Update the most frequent element\n",
    "print(\"Most Frequent Element in the list is\",f,\"appears\", count, \"times\")\n",
    "\n"
   ]
  },
  {
   "cell_type": "code",
   "execution_count": 27,
   "id": "02d8d0ec-da43-4da9-9214-a513e51f2027",
   "metadata": {},
   "outputs": [],
   "source": [
    "#Given three lists, write a program to find elements that are common to all three lists using a dictionary."
   ]
  },
  {
   "cell_type": "code",
   "execution_count": 29,
   "id": "7a57255e-d317-4dca-ad84-34415baaf679",
   "metadata": {},
   "outputs": [
    {
     "name": "stdout",
     "output_type": "stream",
     "text": [
      "Common Elements:  [2, 3]\n"
     ]
    }
   ],
   "source": [
    "li1 = [1, 2, 3, 4]\n",
    "li2 = [2, 3, 5, 6]\n",
    "li3 = [3, 7, 8, 2]\n",
    "Celements =[]    # List to store common elements\n",
    "for i in li1:     # Loop through each element in li1\n",
    "    if i in li2 and i in li3:  # Check if the element is present in both li2 and li3\n",
    "        d[i] = 1\n",
    "        Celements.append(i)   # If it's common, add it to Celements list\n",
    "print(\"Common Elements: \",Celements)"
   ]
  },
  {
   "cell_type": "code",
   "execution_count": 30,
   "id": "f2f44b9e-0e4b-4021-9bfc-545cad272506",
   "metadata": {},
   "outputs": [],
   "source": [
    "#You are given a list of numbers from 1 to 100, but one number is missing. Write a program to find the missing number."
   ]
  },
  {
   "cell_type": "code",
   "execution_count": 43,
   "id": "2e248ab3-3e16-4728-ba13-105272d96937",
   "metadata": {},
   "outputs": [
    {
     "name": "stdout",
     "output_type": "stream",
     "text": [
      "The missing number is: 50\n"
     ]
    }
   ],
   "source": [
    "\n",
    "li = []   # Initialize an empty list\n",
    "i = 1     # Start with 1\n",
    "while i <= 100: # Add numbers from 1 to 100, skipping 50\n",
    "    if i != 50: # Skip the number 50\n",
    "        li.append(i)\n",
    "    i += 1\n",
    "\n",
    "sum = 100 * (100 + 1) // 2  # Calculate the expected sum of numbers from 1 to 100\n",
    "ASum = 0   # Calculate the actual sum of the list\n",
    "i = 0\n",
    "while i < len(li):\n",
    "    ASum += li[i]\n",
    "    i += 1\n",
    "MN = sum - ASum # The missing number is the difference between the expected sum and the actual sum\n",
    "\n",
    "print(\"The missing number is:\", MN)\n"
   ]
  },
  {
   "cell_type": "code",
   "execution_count": null,
   "id": "7f49a4e4-3e24-4986-889b-bc2871b28d39",
   "metadata": {},
   "outputs": [],
   "source": []
  }
 ],
 "metadata": {
  "kernelspec": {
   "display_name": "Python 3 (ipykernel)",
   "language": "python",
   "name": "python3"
  },
  "language_info": {
   "codemirror_mode": {
    "name": "ipython",
    "version": 3
   },
   "file_extension": ".py",
   "mimetype": "text/x-python",
   "name": "python",
   "nbconvert_exporter": "python",
   "pygments_lexer": "ipython3",
   "version": "3.11.7"
  }
 },
 "nbformat": 4,
 "nbformat_minor": 5
}
